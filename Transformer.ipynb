{
  "cells": [
    {
      "cell_type": "code",
      "execution_count": 8,
      "metadata": {
        "colab": {
          "base_uri": "https://localhost:8080/"
        },
        "id": "vrGoPCTcnp9C",
        "outputId": "08079577-4244-49b1-b3c7-c7c7e3921225"
      },
      "outputs": [
        {
          "name": "stderr",
          "output_type": "stream",
          "text": [
            "'wget' is not recognized as an internal or external command,\n",
            "operable program or batch file.\n"
          ]
        }
      ],
      "source": [
        "!wget https://raw.githubusercontent.com/karpathy/char-rnn/master/data/tinyshakespeare/input.txt"
      ]
    },
    {
      "cell_type": "code",
      "execution_count": 9,
      "metadata": {
        "colab": {
          "base_uri": "https://localhost:8080/"
        },
        "id": "v5jtUwIhoDLI",
        "outputId": "eea5727b-8f9f-48fc-e146-3e2c8af20477"
      },
      "outputs": [
        {
          "name": "stdout",
          "output_type": "stream",
          "text": [
            "1115393\n"
          ]
        }
      ],
      "source": [
        "# opening the downloaded shakespeare file\n",
        "with open('input.txt', 'r') as f:\n",
        "  text = f.read()\n",
        "print(len(text))"
      ]
    },
    {
      "cell_type": "code",
      "execution_count": 10,
      "metadata": {
        "colab": {
          "base_uri": "https://localhost:8080/"
        },
        "id": "J7uzghuHohrz",
        "outputId": "d4145d0b-04a5-4815-c6f3-6893c8232d5b"
      },
      "outputs": [
        {
          "name": "stdout",
          "output_type": "stream",
          "text": [
            "First Citizen:\n",
            "Before we proceed any further, hear me speak.\n",
            "\n",
            "All:\n",
            "Speak, speak.\n",
            "\n",
            "First Citizen:\n",
            "You are all resolved rather to die than to famish?\n",
            "\n",
            "All:\n",
            "Resolved. resolved.\n",
            "\n",
            "First Citizen:\n",
            "First, you know Caius Marcius is chief enemy to the people.\n",
            "\n",
            "All:\n",
            "We know't, we know't.\n",
            "\n",
            "First Citizen:\n",
            "Let us kill him, and we'll have corn at our own price.\n",
            "Is't a verdict?\n",
            "\n",
            "All:\n",
            "No more talking on't; let it be done: away, away!\n",
            "\n",
            "Second Citizen:\n",
            "One word, good citizens.\n",
            "\n",
            "First Citizen:\n",
            "We are accounted poor citizens, the patricians good.\n",
            "What authority surfeits on would relieve us: if they\n",
            "would yield us but the superfluity, while it were\n",
            "wholesome, we might guess they relieved us humanely;\n",
            "but they think we are too dear: the leanness that\n",
            "afflicts us, the object of our misery, is as an\n",
            "inventory to particularise their abundance; our\n",
            "sufferance is a gain to them Let us revenge this with\n",
            "our pikes, ere we become rakes: for the gods know I\n",
            "speak this in hunger for bread, not in thirst for revenge.\n",
            "\n",
            "\n"
          ]
        }
      ],
      "source": [
        "print(text[:1000]) # These are some of the characters"
      ]
    },
    {
      "cell_type": "code",
      "execution_count": 11,
      "metadata": {
        "colab": {
          "base_uri": "https://localhost:8080/"
        },
        "id": "r-x16Ovmoy-n",
        "outputId": "e0ad72ba-e87a-4bca-c121-2f1b57e7f46f"
      },
      "outputs": [
        {
          "name": "stdout",
          "output_type": "stream",
          "text": [
            "\n",
            " !$&',-.3:;?ABCDEFGHIJKLMNOPQRSTUVWXYZabcdefghijklmnopqrstuvwxyz 65\n"
          ]
        }
      ],
      "source": [
        "chars = sorted(list(set(text)))\n",
        "print(''.join(chars), len(chars))"
      ]
    },
    {
      "cell_type": "code",
      "execution_count": 12,
      "metadata": {
        "id": "sVNuTDoPz7G2"
      },
      "outputs": [],
      "source": [
        "stoi = {ch:i for i, ch in enumerate(chars)}\n",
        "itos  = {i:ch for ch,i in stoi.items()}\n",
        "encode = lambda s : [stoi[ch] for ch in s]\n",
        "decode = lambda l : [itos[i] for i in l]"
      ]
    },
    {
      "cell_type": "code",
      "execution_count": 13,
      "metadata": {
        "colab": {
          "base_uri": "https://localhost:8080/"
        },
        "id": "7R2tb1kW0aIy",
        "outputId": "a9f4a0ed-cff2-44aa-d69b-f155be8d2a88"
      },
      "outputs": [
        {
          "name": "stdout",
          "output_type": "stream",
          "text": [
            "tensor([18, 47, 56, 57, 58,  1, 15, 47, 58, 47, 64, 43, 52, 10,  0, 14, 43, 44,\n",
            "        53, 56, 43,  1, 61, 43,  1, 54, 56, 53, 41, 43, 43, 42,  1, 39, 52, 63,\n",
            "         1, 44, 59, 56, 58, 46, 43, 56,  6,  1, 46, 43, 39, 56,  1, 51, 43,  1,\n",
            "        57, 54, 43, 39, 49,  8,  0,  0, 13, 50, 50, 10,  0, 31, 54, 43, 39, 49,\n",
            "         6,  1, 57, 54, 43, 39, 49,  8,  0,  0, 18, 47, 56, 57, 58,  1, 15, 47,\n",
            "        58, 47, 64, 43, 52, 10,  0, 37, 53, 59])\n"
          ]
        }
      ],
      "source": [
        "# Now encoding the entire dataset in the given format\n",
        "import torch\n",
        "data = torch.tensor(encode(text), dtype = torch.long )\n",
        "print(data[:100])"
      ]
    },
    {
      "cell_type": "code",
      "execution_count": 14,
      "metadata": {
        "id": "Tw1G1u8s36XP"
      },
      "outputs": [],
      "source": [
        "# Splitting into training and validation sets\n",
        "n = int(0.9*len(data))\n",
        "train_data = data[:n]\n",
        "val_data = data[:n]"
      ]
    },
    {
      "cell_type": "code",
      "execution_count": 15,
      "metadata": {
        "colab": {
          "base_uri": "https://localhost:8080/"
        },
        "id": "62lg4UxP5A_Q",
        "outputId": "0cb61aa8-281e-40c2-cef5-78f0fe7d1334"
      },
      "outputs": [
        {
          "data": {
            "text/plain": [
              "tensor([18, 47, 56, 57, 58,  1, 15, 47, 58])"
            ]
          },
          "execution_count": 15,
          "metadata": {},
          "output_type": "execute_result"
        }
      ],
      "source": [
        "block_size = 8\n",
        "train_data[:block_size+1] # We are doing this since we are preducting the next character for all the given indivivdual characters"
      ]
    },
    {
      "cell_type": "code",
      "execution_count": 16,
      "metadata": {
        "colab": {
          "base_uri": "https://localhost:8080/"
        },
        "id": "u0rw5NkD64cu",
        "outputId": "81402d04-ee9f-4b3e-8507-a3ba4227a4b9"
      },
      "outputs": [
        {
          "name": "stdout",
          "output_type": "stream",
          "text": [
            "when input is tensor([18]) target is 47\n",
            "when input is tensor([18, 47]) target is 56\n",
            "when input is tensor([18, 47, 56]) target is 57\n",
            "when input is tensor([18, 47, 56, 57]) target is 58\n",
            "when input is tensor([18, 47, 56, 57, 58]) target is 1\n",
            "when input is tensor([18, 47, 56, 57, 58,  1]) target is 15\n",
            "when input is tensor([18, 47, 56, 57, 58,  1, 15]) target is 47\n",
            "when input is tensor([18, 47, 56, 57, 58,  1, 15, 47]) target is 58\n"
          ]
        }
      ],
      "source": [
        "x_train = train_data[:block_size]\n",
        "y_train = train_data[1:block_size+1]\n",
        "for t in range(block_size):\n",
        "  context = x_train[:t+1]\n",
        "  target = y_train[t]\n",
        "  print(f'when input is {context} target is {target}')"
      ]
    },
    {
      "cell_type": "code",
      "execution_count": 638,
      "metadata": {},
      "outputs": [
        {
          "name": "stdout",
          "output_type": "stream",
          "text": [
            "tensor([[59, 58, 47, 53, 52,  1, 61, 39],\n",
            "        [52,  1, 51, 63,  1, 59, 52, 54],\n",
            "        [ 0, 13, 26, 19, 17, 24, 27, 10],\n",
            "        [43, 56, 57,  6,  1, 43, 56, 43]])\n"
          ]
        }
      ],
      "source": [
        "batch_size = 4\n",
        "block_size = 8\n",
        "\n",
        "def get_batch(split):\n",
        "  data = train_data if split == 'train' else val_data\n",
        "  ix = torch.randint(len(data) - block_size, (batch_size,))\n",
        "  x = torch.stack([data[i:i+block_size] for i in ix])\n",
        "  y = torch.stack([data[i+1:i+block_size+1] for i in ix])\n",
        "  return x, y\n",
        "\n",
        "\n",
        "\n",
        "xb, yb = get_batch('train')\n",
        "print(xb)"
      ]
    },
    {
      "cell_type": "code",
      "execution_count": 736,
      "metadata": {},
      "outputs": [],
      "source": [
        "# making a single headed transformer\n",
        "# Transforming into something understandable in the system and trying to make  a\n",
        "block_size = 8\n",
        "head = 8 \n",
        "n_embd = 16\n",
        "block_size = 8\n",
        "class Head(nn.Module):\n",
        "    def __init__(self,n_embd, head):\n",
        "        super().__init__()\n",
        "        self.keys = nn.Linear(n_embd, head, bias = False)\n",
        "        self.queries = nn.Linear(n_embd, head, bias = False)\n",
        "        self.values = nn.Linear(n_embd, head, bias = False)\n",
        "        self.register_buffer('tril', torch.tril(torch.ones(block_size, block_size)))\n",
        "\n",
        "\n",
        "    def forward(self, x):\n",
        "        B, T, C = x.shape\n",
        "        K = self.keys(x)\n",
        "        Q =  self.queries(x)\n",
        "        V = self.values(x)\n",
        "        wei = (K @ Q.transpose(-2, -1))*(C**(-0.5)) # B, T, C @ B, C, T  -->  B, T, T # Here C = Head \n",
        "        # print(wei)\n",
        "        wei = wei.masked_fill_(self.tril[:T, :T] == 0, float('-inf')) # masking would mean the nodes are only communicating with nodes in the past and not the future ones \n",
        "        wei =  F.softmax(wei, -1)\n",
        "        # print(wei)\n",
        "\n",
        "        out = wei @ V # B,T,T\n",
        "        # out = self.ln(out)\n",
        "        # print(out.shape)\n",
        "        \n",
        "        return out \n",
        "    \n",
        "# also joining a feedforward network in between\n"
      ]
    },
    {
      "cell_type": "code",
      "execution_count": 737,
      "metadata": {},
      "outputs": [],
      "source": [
        "class MultiHead(nn.Module):\n",
        "    def __init__(self, n_heads, head):\n",
        "        super().__init__()\n",
        "        self.heads = nn.ModuleList([Head(n_embd, head) for _ in range(n_heads)])\n",
        "        self.proj = nn.Linear(n_embd, n_embd)\n",
        "    def forward(self, x):\n",
        "        out = torch.cat([h(x) for h in self.heads], dim=-1)\n",
        "        print(out.shape)\n",
        "        out = self.proj(out)\n",
        "        return out "
      ]
    },
    {
      "cell_type": "code",
      "execution_count": 738,
      "metadata": {},
      "outputs": [],
      "source": [
        "# position embedding and token embedding\n",
        "# token embedding  --> vocab_size to n_embd\n",
        "# position_embedding --> \n",
        "head = 8\n",
        "n_embd = 16\n",
        "block_size = 8\n",
        "# input  B,T format meh \n",
        "# what we want to find out \n",
        "\n",
        "class BigramLanguageModel(nn.Module):\n",
        "    def __init__(self):\n",
        "        super().__init__()\n",
        "\n",
        "        self.token_embedding = nn.Embedding(vocab_size, n_embd)\n",
        "        self.position_embedding = nn.Embedding(block_size, n_embd)\n",
        "        self.sa = nn.Sequential(MultiHead(4, head//4),\n",
        "                      MultiHead(4, head//4),\n",
        "                      MultiHead(4, head//4),\n",
        "                     )\n",
        "\n",
        "        self.ln1 = nn.LayerNorm(n_embd)\n",
        "        self.ln2 = nn.LayerNorm(n_embd)\n",
        "        self.linear = nn.Linear(n_embd, vocab_size)\n",
        "        self.ffwd1 = nn.Linear(n_embd, n_embd*4) # we use all of this to make sure the model learns from the output of the \n",
        "        self.ffwd2 = nn.Linear(n_embd*4, n_embd)\n",
        "        self.act1 = nn.ReLU()\n",
        "        self.lm_head = nn.Linear(n_embd, vocab_size)\n",
        "\n",
        "\n",
        "    def forward(self, idx, targets = None):\n",
        "        B, T = idx.shape\n",
        "        token_embedding = self.token_embedding(idx)\n",
        "        position_embedding  = self.position_embedding(torch.arange(T))\n",
        "        x =  token_embedding  + position_embedding\n",
        "        x = x +self.sa(self.ln1(x))  \n",
        "        x = self.ffwd1(x)\n",
        "        x = self.act1(x)\n",
        "        x =x + self.ffwd2(x)\n",
        "        logits = self.lm_head(x)\n",
        "\n",
        "        if targets is None:\n",
        "            return logits \n",
        "        else:\n",
        "            B,T,C  = x.shape\n",
        "            x = x.view(B*T, -1)\n",
        "            targets = targets.view(-1)\n",
        "            loss = F.cross_entropy(x, targets)\n",
        "            return logits, loss\n",
        "        \n",
        "    def generate(self, idx, max_new_tokens):\n",
        "        for _ in range(max_new_tokens):\n",
        "            idx_cond = idx[:, -block_size:]\n",
        "            logits, loss = self(idx_cond)\n",
        "            logits = logits[:, -1, :] # becomes (B, C)\n",
        "            probs = F.softmax(logits, dim=-1) # (B, C)\n",
        "            idx_next = torch.multinomial(probs, num_samples=1) # (B, 1)\n",
        "            idx = torch.cat((idx, idx_next), dim=1) # (B, T+1)\n",
        "        return idx\n",
        "\n",
        "        \n",
        "       \n",
        "    \n",
        "    "
      ]
    },
    {
      "cell_type": "code",
      "execution_count": 739,
      "metadata": {},
      "outputs": [],
      "source": [
        "m = BigramLanguageModel()"
      ]
    },
    {
      "cell_type": "code",
      "execution_count": null,
      "metadata": {},
      "outputs": [],
      "source": [
        "import torch.optim as optim \n",
        "\n",
        "optimizer = optim.Adam(m.parameters(), lr = 1e-3)"
      ]
    },
    {
      "cell_type": "code",
      "execution_count": 1,
      "metadata": {},
      "outputs": [],
      "source": [
        "\n",
        "\n",
        "for i in range(10):\n",
        "    xb, yb = get_batch('train')\n",
        "    logits, loss = m(xb, yb)\n",
        "    optimizer.zero_grad(set_to_none=True)\n",
        "    loss.backward()\n",
        "    optimizer.step()\n",
        "    print(f'loss for  step {i+1}: {loss}')"
      ]
    },
    {
      "cell_type": "markdown",
      "metadata": {},
      "source": []
    }
  ],
  "metadata": {
    "accelerator": "GPU",
    "colab": {
      "gpuType": "T4",
      "provenance": []
    },
    "kernelspec": {
      "display_name": "Python 3",
      "name": "python3"
    },
    "language_info": {
      "codemirror_mode": {
        "name": "ipython",
        "version": 3
      },
      "file_extension": ".py",
      "mimetype": "text/x-python",
      "name": "python",
      "nbconvert_exporter": "python",
      "pygments_lexer": "ipython3",
      "version": "3.12.3"
    }
  },
  "nbformat": 4,
  "nbformat_minor": 0
}
